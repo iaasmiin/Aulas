{
  "nbformat": 4,
  "nbformat_minor": 0,
  "metadata": {
    "colab": {
      "name": "Aula 11.ipynb",
      "provenance": [],
      "authorship_tag": "ABX9TyP6mRJr36q24vY5CCXlCP/x",
      "include_colab_link": true
    },
    "kernelspec": {
      "name": "python3",
      "display_name": "Python 3"
    },
    "language_info": {
      "name": "python"
    }
  },
  "cells": [
    {
      "cell_type": "markdown",
      "metadata": {
        "id": "view-in-github",
        "colab_type": "text"
      },
      "source": [
        "<a href=\"https://colab.research.google.com/github/iaasmiin/Aulas/blob/main/Aula_11.ipynb\" target=\"_parent\"><img src=\"https://colab.research.google.com/assets/colab-badge.svg\" alt=\"Open In Colab\"/></a>"
      ]
    },
    {
      "cell_type": "markdown",
      "metadata": {
        "id": "Z1w3nxOvbjqz"
      },
      "source": [
        "**Dicionários**"
      ]
    },
    {
      "cell_type": "code",
      "metadata": {
        "colab": {
          "base_uri": "https://localhost:8080/"
        },
        "id": "-hI_KTFTbVWO",
        "outputId": "cd3669b1-207e-41cb-d6c5-a7551dfd2642"
      },
      "source": [
        "tradutor = {}                # atribuição de criação de um dicionário vazio\n",
        "tradutor[\"one\"] = \"um\"       # atribuição do par key:value\n",
        "tradutor[\"two\"] = \"dois\"\n",
        "tradutor[\"three\"] = \"tres\"\n",
        "print(tradutor)"
      ],
      "execution_count": 1,
      "outputs": [
        {
          "output_type": "stream",
          "name": "stdout",
          "text": [
            "{'one': 'um', 'two': 'dois', 'three': 'tres'}\n"
          ]
        }
      ]
    },
    {
      "cell_type": "markdown",
      "metadata": {
        "id": "GFZxIUillbFW"
      },
      "source": [
        "**DÚVIDA!!!** Por que quando eu escrevo >> tradutor.keys << acontece erro?\n",
        "###################################"
      ]
    },
    {
      "cell_type": "code",
      "metadata": {
        "colab": {
          "base_uri": "https://localhost:8080/",
          "height": 165
        },
        "id": "wlZk4FeTjJm7",
        "outputId": "7caecaa5-db73-4d0f-cb65-9357803d8043"
      },
      "source": [
        "tradutor.keys()"
      ],
      "execution_count": 14,
      "outputs": [
        {
          "output_type": "error",
          "ename": "AttributeError",
          "evalue": "ignored",
          "traceback": [
            "\u001b[0;31m---------------------------------------------------------------------------\u001b[0m",
            "\u001b[0;31mAttributeError\u001b[0m                            Traceback (most recent call last)",
            "\u001b[0;32m<ipython-input-14-bdb43e2e33c0>\u001b[0m in \u001b[0;36m<module>\u001b[0;34m()\u001b[0m\n\u001b[0;32m----> 1\u001b[0;31m \u001b[0mtradutor\u001b[0m\u001b[0;34m.\u001b[0m\u001b[0mkeys\u001b[0m\u001b[0;34m(\u001b[0m\u001b[0;34m)\u001b[0m\u001b[0;34m\u001b[0m\u001b[0;34m\u001b[0m\u001b[0m\n\u001b[0m",
            "\u001b[0;31mAttributeError\u001b[0m: 'str' object has no attribute 'keys'"
          ]
        }
      ]
    },
    {
      "cell_type": "markdown",
      "metadata": {
        "id": "Aboybia9lsXr"
      },
      "source": [
        "#############################################"
      ]
    },
    {
      "cell_type": "code",
      "metadata": {
        "colab": {
          "base_uri": "https://localhost:8080/"
        },
        "id": "W8g0uCZ-b2A3",
        "outputId": "2d9f065b-cda3-4831-d1d3-e0275c3ef6f3"
      },
      "source": [
        "trad_animais ={}\n",
        "trad_animais[\"ox\"] = \"boi\"\n",
        "trad_animais[\"monkey\"] = \"macaco\"\n",
        "trad_animais[\"rabbit\"] = \"coelho\"\n",
        "trad_animais[\"frog\"] = \"sapo\"\n",
        "print(trad_animais)"
      ],
      "execution_count": 2,
      "outputs": [
        {
          "output_type": "stream",
          "name": "stdout",
          "text": [
            "{'ox': 'boi', 'monkey': 'macaco', 'rabbit': 'coelho', 'frog': 'sapo'}\n"
          ]
        }
      ]
    },
    {
      "cell_type": "code",
      "metadata": {
        "colab": {
          "base_uri": "https://localhost:8080/"
        },
        "id": "jeVEKcAml00q",
        "outputId": "d04b68cf-9cb3-4be4-c4c6-edf59bdfcbb0"
      },
      "source": [
        "trad_animais.keys()"
      ],
      "execution_count": 15,
      "outputs": [
        {
          "output_type": "execute_result",
          "data": {
            "text/plain": [
              "dict_keys(['ox', 'monkey', 'rabbit', 'frog'])"
            ]
          },
          "metadata": {},
          "execution_count": 15
        }
      ]
    },
    {
      "cell_type": "code",
      "metadata": {
        "colab": {
          "base_uri": "https://localhost:8080/",
          "height": 183
        },
        "id": "G2IKx3r7mDd7",
        "outputId": "9081d889-4330-4024-bcfb-146db3947ab6"
      },
      "source": [
        "for trad_animais in trad_animais.keys():\n",
        "  print(trad_animais, '=', trad_animais[animal])"
      ],
      "execution_count": 18,
      "outputs": [
        {
          "output_type": "error",
          "ename": "AttributeError",
          "evalue": "ignored",
          "traceback": [
            "\u001b[0;31m---------------------------------------------------------------------------\u001b[0m",
            "\u001b[0;31mAttributeError\u001b[0m                            Traceback (most recent call last)",
            "\u001b[0;32m<ipython-input-18-fc316bb02e17>\u001b[0m in \u001b[0;36m<module>\u001b[0;34m()\u001b[0m\n\u001b[0;32m----> 1\u001b[0;31m \u001b[0;32mfor\u001b[0m \u001b[0mtrad_animais\u001b[0m \u001b[0;32min\u001b[0m \u001b[0mtrad_animais\u001b[0m\u001b[0;34m.\u001b[0m\u001b[0mkeys\u001b[0m\u001b[0;34m(\u001b[0m\u001b[0;34m)\u001b[0m\u001b[0;34m:\u001b[0m\u001b[0;34m\u001b[0m\u001b[0;34m\u001b[0m\u001b[0m\n\u001b[0m\u001b[1;32m      2\u001b[0m   \u001b[0mprint\u001b[0m\u001b[0;34m(\u001b[0m\u001b[0mtrad_animais\u001b[0m\u001b[0;34m,\u001b[0m \u001b[0;34m'='\u001b[0m\u001b[0;34m,\u001b[0m \u001b[0mtrad_animais\u001b[0m\u001b[0;34m[\u001b[0m\u001b[0manimal\u001b[0m\u001b[0;34m]\u001b[0m\u001b[0;34m)\u001b[0m\u001b[0;34m\u001b[0m\u001b[0;34m\u001b[0m\u001b[0m\n",
            "\u001b[0;31mAttributeError\u001b[0m: 'str' object has no attribute 'keys'"
          ]
        }
      ]
    },
    {
      "cell_type": "code",
      "metadata": {
        "colab": {
          "base_uri": "https://localhost:8080/"
        },
        "id": "xl8AxBVvd4DF",
        "outputId": "5488514c-7ef9-4dae-ea11-3ec0f180a135"
      },
      "source": [
        "dict = {}\n",
        "for i in range(4):\n",
        "    dict[i] = \"teste\" + str(i)\n",
        "print (dict)\n",
        "\n",
        "dict.keys()"
      ],
      "execution_count": 13,
      "outputs": [
        {
          "output_type": "stream",
          "name": "stdout",
          "text": [
            "{0: 'teste0', 1: 'teste1', 2: 'teste2', 3: 'teste3'}\n"
          ]
        },
        {
          "output_type": "execute_result",
          "data": {
            "text/plain": [
              "dict_keys([0, 1, 2, 3])"
            ]
          },
          "metadata": {},
          "execution_count": 13
        }
      ]
    },
    {
      "cell_type": "code",
      "metadata": {
        "colab": {
          "base_uri": "https://localhost:8080/"
        },
        "id": "0bk4zFRzgZim",
        "outputId": "0dd495b6-613a-44e1-bc58-6355e95ea8a3"
      },
      "source": [
        "frutas = {\"maçãs\": 430, \"bananas\": 312, \"laranjas\": 525, \"peras\": 217, \"goiabas\": 88, \"figos\": 108, \"jambos\": 249}\n",
        "print(frutas)"
      ],
      "execution_count": 6,
      "outputs": [
        {
          "output_type": "stream",
          "name": "stdout",
          "text": [
            "{'maçãs': 430, 'bananas': 312, 'laranjas': 525, 'peras': 217, 'goiabas': 88, 'figos': 108, 'jambos': 249}\n"
          ]
        }
      ]
    },
    {
      "cell_type": "code",
      "metadata": {
        "colab": {
          "base_uri": "https://localhost:8080/"
        },
        "id": "4qdH0hQxgkPr",
        "outputId": "c7505e6c-f0e3-4ffd-9039-24d09ee9549c"
      },
      "source": [
        "del frutas[\"peras\"]\n",
        "print(frutas)"
      ],
      "execution_count": 7,
      "outputs": [
        {
          "output_type": "stream",
          "name": "stdout",
          "text": [
            "{'maçãs': 430, 'bananas': 312, 'laranjas': 525, 'goiabas': 88, 'figos': 108, 'jambos': 249}\n"
          ]
        }
      ]
    },
    {
      "cell_type": "code",
      "metadata": {
        "colab": {
          "base_uri": "https://localhost:8080/"
        },
        "id": "_6bbDvY3gn3i",
        "outputId": "ddffb07f-f55e-4fb2-edd7-e598ad2816b2"
      },
      "source": [
        "frutas.keys()"
      ],
      "execution_count": 8,
      "outputs": [
        {
          "output_type": "execute_result",
          "data": {
            "text/plain": [
              "dict_keys(['maçãs', 'bananas', 'laranjas', 'goiabas', 'figos', 'jambos'])"
            ]
          },
          "metadata": {},
          "execution_count": 8
        }
      ]
    },
    {
      "cell_type": "code",
      "metadata": {
        "colab": {
          "base_uri": "https://localhost:8080/"
        },
        "id": "k7t2LzRFjCIU",
        "outputId": "441159c8-e693-4a8a-ef52-2575e30bd3dc"
      },
      "source": [
        "for fruta in frutas.keys():\n",
        "    print(fruta, ' = ', frutas[fruta])"
      ],
      "execution_count": 9,
      "outputs": [
        {
          "output_type": "stream",
          "name": "stdout",
          "text": [
            "maçãs  =  430\n",
            "bananas  =  312\n",
            "laranjas  =  525\n",
            "goiabas  =  88\n",
            "figos  =  108\n",
            "jambos  =  249\n"
          ]
        }
      ]
    },
    {
      "cell_type": "code",
      "metadata": {
        "colab": {
          "base_uri": "https://localhost:8080/"
        },
        "id": "Q0t_tPX2nMFl",
        "outputId": "6356a88d-5906-4745-f3e0-e4b9faacd681"
      },
      "source": [
        "colors = {\"blue\":\"azul\",\"pink\":\"rosa\", \"grey\":\"cinza\",\"black\":\"preto\"}\n",
        "print(colors)\n",
        "\n",
        "colors.keys()"
      ],
      "execution_count": 22,
      "outputs": [
        {
          "output_type": "stream",
          "name": "stdout",
          "text": [
            "{'blue': 'azul', 'pink': 'rosa', 'grey': 'cinza', 'black': 'preto'}\n"
          ]
        },
        {
          "output_type": "execute_result",
          "data": {
            "text/plain": [
              "dict_keys(['blue', 'pink', 'grey', 'black'])"
            ]
          },
          "metadata": {},
          "execution_count": 22
        }
      ]
    },
    {
      "cell_type": "code",
      "metadata": {
        "colab": {
          "base_uri": "https://localhost:8080/"
        },
        "id": "30zq4NG9pQAa",
        "outputId": "6ed10c64-527a-4ce7-b790-4db45215bcd2"
      },
      "source": [
        "for color in colors.keys():\n",
        "  print(color,'=', colors[color])"
      ],
      "execution_count": 23,
      "outputs": [
        {
          "output_type": "stream",
          "name": "stdout",
          "text": [
            "blue = azul\n",
            "pink = rosa\n",
            "grey = cinza\n",
            "black = preto\n"
          ]
        }
      ]
    }
  ]
}